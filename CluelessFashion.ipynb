{
  "cells": [
    {
      "cell_type": "markdown",
      "metadata": {
        "id": "Hh8Q4VN4r8VQ"
      },
      "source": [
        "# Database"
      ]
    },
    {
      "cell_type": "markdown",
      "metadata": {
        "id": "YR8rduwPuuOO"
      },
      "source": [
        "## Pandas"
      ]
    },
    {
      "cell_type": "code",
      "execution_count": null,
      "metadata": {
        "id": "fjOpdAV7JoQJ",
        "colab": {
          "base_uri": "https://localhost:8080/"
        },
        "outputId": "621126db-0831-41e6-97dc-949a1ed188ed"
      },
      "outputs": [
        {
          "output_type": "stream",
          "name": "stdout",
          "text": [
            "Drive already mounted at /content/drive; to attempt to forcibly remount, call drive.mount(\"/content/drive\", force_remount=True).\n"
          ]
        }
      ],
      "source": [
        "from google.colab import drive\n",
        "drive.mount('/content/drive')"
      ]
    },
    {
      "cell_type": "code",
      "execution_count": null,
      "metadata": {
        "id": "_Et0P_wBuw9T"
      },
      "outputs": [],
      "source": [
        "import pandas as pd\n",
        "pd.set_option('display.max_columns', 500) #prevents trailing elipses\n",
        "pd.set_option('display.max_rows', None)\n",
        "import requests"
      ]
    },
    {
      "cell_type": "code",
      "source": [
        "import json"
      ],
      "metadata": {
        "id": "sMefHhuiDJGw"
      },
      "execution_count": null,
      "outputs": []
    },
    {
      "cell_type": "code",
      "execution_count": null,
      "metadata": {
        "id": "QhIjID-bC8Ky"
      },
      "outputs": [],
      "source": [
        "pic_call = pd.read_csv(\"/content/drive/MyDrive/Colab Notebooks/CSC-650/images.csv\", encoding=\"latin_1\")"
      ]
    },
    {
      "cell_type": "code",
      "execution_count": null,
      "metadata": {
        "id": "8DhPKDECBT0u"
      },
      "outputs": [],
      "source": [
        "data = pd.read_csv(\"/content/drive/MyDrive/Colab Notebooks/CSC-650/styles.csv\", usecols=['id','articleType'], encoding=\"latin_1\")"
      ]
    },
    {
      "cell_type": "code",
      "source": [
        "data.head(100).to_csv('/content/drive/MyDrive/Colab Notebooks/CSC-650/styles_first100.csv',index=False)"
      ],
      "metadata": {
        "id": "rIVchCHSMhdH"
      },
      "execution_count": null,
      "outputs": []
    },
    {
      "cell_type": "code",
      "execution_count": null,
      "metadata": {
        "id": "D_TfV6S1sGUJ"
      },
      "outputs": [],
      "source": [
        "test02 = data[(data['masterCategory'] == 'Apparel') &\n",
        "              (data['subCategory'] == 'Topwear')]"
      ]
    },
    {
      "cell_type": "code",
      "execution_count": null,
      "metadata": {
        "id": "MiBmVjia8215",
        "colab": {
          "base_uri": "https://localhost:8080/"
        },
        "outputId": "f8700037-bc96-4721-c54a-25408a5d9c8f"
      },
      "outputs": [
        {
          "output_type": "stream",
          "name": "stdout",
          "text": [
            "['Casual', 'Ethnic', 'Formal', 'Sports', nan, 'Smart Casual', 'Travel', 'Party', 'Home']\n"
          ]
        }
      ],
      "source": [
        "test03 = []\n",
        "\n",
        "for a in data['usage']:\n",
        "  if a in test03:\n",
        "    pass\n",
        "  else:\n",
        "    test03.append(a)\n",
        "print(test03)"
      ]
    },
    {
      "cell_type": "code",
      "execution_count": null,
      "metadata": {
        "id": "Vwtxdt4w82dz"
      },
      "outputs": [],
      "source": [
        "x = test02['id']"
      ]
    },
    {
      "cell_type": "code",
      "execution_count": null,
      "metadata": {
        "id": "MOmDPOveBuiR"
      },
      "outputs": [],
      "source": [
        "display(pic_call)"
      ]
    },
    {
      "cell_type": "code",
      "execution_count": null,
      "metadata": {
        "id": "39saNfGGyHRY",
        "colab": {
          "base_uri": "https://localhost:8080/",
          "height": 245
        },
        "outputId": "ad0b8a4f-1cdb-4eef-d03a-bc524b486a7d"
      },
      "outputs": [
        {
          "output_type": "error",
          "ename": "NameError",
          "evalue": "ignored",
          "traceback": [
            "\u001b[0;31m---------------------------------------------------------------------------\u001b[0m",
            "\u001b[0;31mNameError\u001b[0m                                 Traceback (most recent call last)",
            "\u001b[0;32m<ipython-input-20-a0c4271b3d76>\u001b[0m in \u001b[0;36m<cell line: 3>\u001b[0;34m()\u001b[0m\n\u001b[1;32m      1\u001b[0m \u001b[0mstop\u001b[0m \u001b[0;34m=\u001b[0m \u001b[0;36m0\u001b[0m\u001b[0;34m\u001b[0m\u001b[0;34m\u001b[0m\u001b[0m\n\u001b[1;32m      2\u001b[0m \u001b[0;34m\u001b[0m\u001b[0m\n\u001b[0;32m----> 3\u001b[0;31m \u001b[0;32mfor\u001b[0m \u001b[0mi\u001b[0m \u001b[0;32min\u001b[0m \u001b[0mx\u001b[0m\u001b[0;34m:\u001b[0m\u001b[0;34m\u001b[0m\u001b[0;34m\u001b[0m\u001b[0m\n\u001b[0m\u001b[1;32m      4\u001b[0m   \u001b[0;32mif\u001b[0m \u001b[0mstop\u001b[0m \u001b[0;34m<\u001b[0m \u001b[0;36m5\u001b[0m\u001b[0;34m:\u001b[0m\u001b[0;34m\u001b[0m\u001b[0;34m\u001b[0m\u001b[0m\n\u001b[1;32m      5\u001b[0m     \u001b[0mb\u001b[0m \u001b[0;34m=\u001b[0m \u001b[0;34m''\u001b[0m\u001b[0;34m\u001b[0m\u001b[0;34m\u001b[0m\u001b[0m\n",
            "\u001b[0;31mNameError\u001b[0m: name 'x' is not defined"
          ]
        }
      ],
      "source": [
        "stop = 0\n",
        "\n",
        "for i in x:\n",
        "  if stop < 5:\n",
        "    b = ''\n",
        "    t = pic_call[pic_call['filename'] == str(i) + '.jpg']['link']\n",
        "    print(len(str(t)))\n",
        "    for a in str(t):\n",
        "      b += a\n",
        "    print(b)\n",
        "\n",
        "  stop += 1"
      ]
    },
    {
      "cell_type": "code",
      "execution_count": null,
      "metadata": {
        "id": "UlwAqX_1qZp_"
      },
      "outputs": [],
      "source": [
        "with open(\"/content/drive/MyDrive/Colab Notebooks/CSC-650/test.jpeg\", 'w') as picurt:\n",
        "  picurt.writelines(x1.text)"
      ]
    },
    {
      "cell_type": "markdown",
      "source": [
        "## load a JSON"
      ],
      "metadata": {
        "id": "ht1_Dj8pS4TL"
      }
    },
    {
      "cell_type": "code",
      "source": [],
      "metadata": {
        "id": "2tlAtrB4THhy"
      },
      "execution_count": null,
      "outputs": []
    },
    {
      "cell_type": "markdown",
      "metadata": {
        "id": "FfvljIR8XD7k"
      },
      "source": [
        "# BACKEND"
      ]
    },
    {
      "cell_type": "markdown",
      "metadata": {
        "id": "7TYO9MVBDOUQ"
      },
      "source": [
        "1) Data Structure: We need to define how clothing items are stored.\n",
        "\n",
        "2) API Endpoints/Functions:\n",
        "\n",
        "3) Fetch clothing items by category\n",
        "Assemble an outfit\n",
        "Carousel Logic: Logic to \"scroll\" through the clothing items within each category.\n",
        "\n",
        "Here's a basic outline in Python:\n",
        "\n",
        "1. Data Structure:\n",
        "For simplicity, I'll use dictionaries to represent the dummy database of clothing items."
      ]
    },
    {
      "cell_type": "markdown",
      "metadata": {
        "id": "Q19w_U45D3e8"
      },
      "source": [
        "## 1) DATA STRUCTURE"
      ]
    },
    {
      "cell_type": "code",
      "execution_count": null,
      "metadata": {
        "id": "WtsaWY3aDzDZ"
      },
      "outputs": [],
      "source": [
        "# Dummy database of clothing items categorized by type\n",
        "clothing_database = {\n",
        "    'tops': [\n",
        "        {'id': 1, 'name': 'T-shirt', 'image': 'path_to_image1.jpg'},\n",
        "        {'id': 2, 'name': 'Jacket', 'image': 'path_to_image2.jpg'},\n",
        "        # ... other tops\n",
        "    ],\n",
        "    'bottoms': [\n",
        "        {'id': 1, 'name': 'Jeans', 'image': 'path_to_image3.jpg'},\n",
        "        {'id': 2, 'name': 'Shorts', 'image': 'path_to_image4.jpg'},\n",
        "        # ... other bottoms\n",
        "    ],\n",
        "    'shoes': [\n",
        "        {'id': 1, 'name': 'Sneakers', 'image': 'path_to_image5.jpg'},\n",
        "        {'id': 2, 'name': 'Boots', 'image': 'path_to_image6.jpg'},\n",
        "        # ... other shoes\n",
        "    ],\n",
        "    # ... other categories\n",
        "}\n"
      ]
    },
    {
      "cell_type": "markdown",
      "metadata": {
        "id": "2HPOhtgZEGWz"
      },
      "source": [
        "## 2. API Endpoints/Functions:"
      ]
    },
    {
      "cell_type": "code",
      "execution_count": null,
      "metadata": {
        "id": "VidfhT6IEIjS"
      },
      "outputs": [],
      "source": [
        "def get_clothing_by_category(category):\n",
        "    \"\"\"Fetch clothing items for a given category.\"\"\"\n",
        "    return clothing_database.get(category, [])\n",
        "\n",
        "def assemble_outfit(top_id, bottom_id, shoe_id):\n",
        "    \"\"\"Construct an outfit based on the selected clothing item IDs.\"\"\"\n",
        "    top_item = next((item for item in clothing_database['tops'] if item['id'] == top_id), None)\n",
        "    bottom_item = next((item for item in clothing_database['bottoms'] if item['id'] == bottom_id), None)\n",
        "    shoe_item = next((item for item in clothing_database['shoes'] if item['id'] == shoe_id), None)\n",
        "\n",
        "    return {\n",
        "        'top': top_item,\n",
        "        'bottom': bottom_item,\n",
        "        'shoes': shoe_item\n",
        "    }\n"
      ]
    },
    {
      "cell_type": "markdown",
      "metadata": {
        "id": "p6jemxljEMsH"
      },
      "source": [
        "## 3. Carousel Logic"
      ]
    },
    {
      "cell_type": "code",
      "execution_count": null,
      "metadata": {
        "id": "pHjTQYxEERCL"
      },
      "outputs": [],
      "source": [
        "def carousel_next(items, current_index):\n",
        "    \"\"\"Simulate the 'next' functionality of a carousel.\"\"\"\n",
        "    return items[(current_index + 1) % len(items)]\n",
        "\n",
        "def carousel_previous(items, current_index):\n",
        "    \"\"\"Simulate the 'previous' functionality of a carousel.\"\"\"\n",
        "    return items[(current_index - 1) % len(items)]\n"
      ]
    },
    {
      "cell_type": "markdown",
      "source": [
        "### CSV database to python"
      ],
      "metadata": {
        "id": "yMujJfiz3Mc-"
      }
    },
    {
      "cell_type": "code",
      "source": [
        "clothing_database = {}\n",
        "\n",
        "for index, row in merged_df.iterrows():\n",
        "    category = row['articleType'].lower()\n",
        "    item = {\n",
        "        'id': row['id'],\n",
        "        'name': row['productDisplayName'],\n",
        "        'image': row['link'],\n",
        "        'gender': row['gender'],\n",
        "        'masterCategory': row['masterCategory'],\n",
        "        'subCategory': row['subCategory'],\n",
        "        'articleType': row['articleType']\n",
        "    }\n",
        "\n",
        "    if category not in clothing_database:\n",
        "        clothing_database[category] = []\n",
        "\n",
        "    clothing_database[category].append(item)\n",
        "\n",
        "# Generating a new sample output to verify the inclusion of additional attributes\n",
        "new_enhanced_sample_output = {}\n",
        "for category, items in list(clothing_database.items())[:1]:\n",
        "    new_enhanced_items = []\n",
        "    for item in items[:3]:\n",
        "        new_enhanced_item = {\n",
        "            'id': item['id'],\n",
        "            'name': item['name'],\n",
        "            'image': item['image'],\n",
        "            'gender': item['gender'],\n",
        "            'masterCategory': item['masterCategory'],\n",
        "            'subCategory': item['subCategory'],\n",
        "            'articleType': item['articleType']\n",
        "        }\n",
        "        new_enhanced_items.append(new_enhanced_item)\n",
        "    new_enhanced_sample_output[category] = new_enhanced_items\n",
        "\n",
        "new_enhanced_sample_output\n",
        "\n"
      ],
      "metadata": {
        "id": "ZVrEkZi23P2d",
        "colab": {
          "base_uri": "https://localhost:8080/",
          "height": 246
        },
        "outputId": "0f259062-aa06-47f5-cacb-ac101a51ae6c"
      },
      "execution_count": null,
      "outputs": [
        {
          "output_type": "error",
          "ename": "NameError",
          "evalue": "ignored",
          "traceback": [
            "\u001b[0;31m---------------------------------------------------------------------------\u001b[0m",
            "\u001b[0;31mNameError\u001b[0m                                 Traceback (most recent call last)",
            "\u001b[0;32m<ipython-input-1-35aedf3df52a>\u001b[0m in \u001b[0;36m<cell line: 3>\u001b[0;34m()\u001b[0m\n\u001b[1;32m      1\u001b[0m \u001b[0mclothing_database\u001b[0m \u001b[0;34m=\u001b[0m \u001b[0;34m{\u001b[0m\u001b[0;34m}\u001b[0m\u001b[0;34m\u001b[0m\u001b[0;34m\u001b[0m\u001b[0m\n\u001b[1;32m      2\u001b[0m \u001b[0;34m\u001b[0m\u001b[0m\n\u001b[0;32m----> 3\u001b[0;31m \u001b[0;32mfor\u001b[0m \u001b[0mindex\u001b[0m\u001b[0;34m,\u001b[0m \u001b[0mrow\u001b[0m \u001b[0;32min\u001b[0m \u001b[0mmerged_df\u001b[0m\u001b[0;34m.\u001b[0m\u001b[0miterrows\u001b[0m\u001b[0;34m(\u001b[0m\u001b[0;34m)\u001b[0m\u001b[0;34m:\u001b[0m\u001b[0;34m\u001b[0m\u001b[0;34m\u001b[0m\u001b[0m\n\u001b[0m\u001b[1;32m      4\u001b[0m     \u001b[0mcategory\u001b[0m \u001b[0;34m=\u001b[0m \u001b[0mrow\u001b[0m\u001b[0;34m[\u001b[0m\u001b[0;34m'articleType'\u001b[0m\u001b[0;34m]\u001b[0m\u001b[0;34m.\u001b[0m\u001b[0mlower\u001b[0m\u001b[0;34m(\u001b[0m\u001b[0;34m)\u001b[0m\u001b[0;34m\u001b[0m\u001b[0;34m\u001b[0m\u001b[0m\n\u001b[1;32m      5\u001b[0m     item = {\n",
            "\u001b[0;31mNameError\u001b[0m: name 'merged_df' is not defined"
          ]
        }
      ]
    }
  ],
  "metadata": {
    "colab": {
      "collapsed_sections": [
        "f7dGliDd_0Hz",
        "PW8QdGU__65f",
        "pBiOe2mHAUpF",
        "Xojnce8rALCn",
        "yzkqr4UyzHOa"
      ],
      "provenance": []
    },
    "kernelspec": {
      "display_name": "Python 3",
      "name": "python3"
    },
    "language_info": {
      "name": "python"
    }
  },
  "nbformat": 4,
  "nbformat_minor": 0
}